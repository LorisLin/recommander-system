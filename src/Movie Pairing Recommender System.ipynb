{
 "cells": [
  {
   "cell_type": "code",
   "execution_count": 213,
   "id": "6b3b2eac",
   "metadata": {},
   "outputs": [],
   "source": [
    "import pandas as pd\n",
    "import pandas as pd\n",
    "from surprise import Dataset, Reader, SVD, accuracy\n",
    "from surprise.model_selection import train_test_split\n",
    "from collections import defaultdict, Counter"
   ]
  },
  {
   "cell_type": "code",
   "execution_count": 214,
   "id": "dc67e75c",
   "metadata": {},
   "outputs": [],
   "source": [
    "#pip install surprise pandas"
   ]
  },
  {
   "cell_type": "markdown",
   "id": "610cf90c",
   "metadata": {},
   "source": [
    "# **Data Collection and Preprocessing** #"
   ]
  },
  {
   "cell_type": "markdown",
   "id": "d1afa858",
   "metadata": {},
   "source": [
    "## Import data ##"
   ]
  },
  {
   "cell_type": "markdown",
   "id": "008ebad0",
   "metadata": {},
   "source": [
    "### MovieLens Dataset  ###"
   ]
  },
  {
   "cell_type": "code",
   "execution_count": 215,
   "id": "d6c45a6a",
   "metadata": {},
   "outputs": [
    {
     "name": "stdout",
     "output_type": "stream",
     "text": [
      "Data already downloaded\n"
     ]
    }
   ],
   "source": [
    "%%bash\n",
    "\n",
    "if [ ! -d \"../data/movielens_complete\" ]; \n",
    "then    \n",
    "    wget https://files.grouplens.org/datasets/movielens/ml-1m.zip\n",
    "    mkdir -p ../data/movielens_complete\n",
    "    unzip -o ml-1m.zip -d ../data/movielens_complete;\n",
    "    rm ml-1m.zip;\n",
    "else\n",
    "    echo \"Data already downloaded\";\n",
    "fi"
   ]
  },
  {
   "cell_type": "markdown",
   "id": "be482266",
   "metadata": {},
   "source": [
    "### IMDb Dataset ###"
   ]
  },
  {
   "cell_type": "code",
   "execution_count": 216,
   "id": "11a4fd0a",
   "metadata": {},
   "outputs": [
    {
     "name": "stdout",
     "output_type": "stream",
     "text": [
      "Data already downloaded\n"
     ]
    }
   ],
   "source": [
    "%%bash\n",
    "\n",
    "if [ ! -d \"../data/imbws_complete\" ]; \n",
    "then    \n",
    "    wget https://datasets.imdbws.com/name.basics.tsv.gz\n",
    "    wget https://datasets.imdbws.com/title.akas.tsv.gz\n",
    "    wget https://datasets.imdbws.com/title.basics.tsv.gz\n",
    "    wget https://datasets.imdbws.com/title.crew.tsv.gz\n",
    "    wget https://datasets.imdbws.com/title.episode.tsv.gz\n",
    "    wget https://datasets.imdbws.com/title.principals.tsv.gz\n",
    "    wget https://datasets.imdbws.com/title.ratings.tsv.gz\n",
    "    mkdir -p ../data/imbws_complete\n",
    "    unzip -o * -d ../data/imbws_complete;\n",
    "    rm -rf *.gz;\n",
    "else\n",
    "    echo \"Data already downloaded\";\n",
    "fi"
   ]
  },
  {
   "cell_type": "markdown",
   "id": "a4444e70",
   "metadata": {},
   "source": [
    "## Loading data ##"
   ]
  },
  {
   "cell_type": "markdown",
   "id": "c99bdd59",
   "metadata": {},
   "source": [
    "### IMDb Dataset ###"
   ]
  },
  {
   "cell_type": "code",
   "execution_count": 217,
   "id": "7d92a884",
   "metadata": {},
   "outputs": [
    {
     "name": "stderr",
     "output_type": "stream",
     "text": [
      "/var/folders/14/gqh8s7ns7px8lp_jsp2zzcth0000gp/T/ipykernel_5935/151933047.py:1: DtypeWarning: Columns (4) have mixed types. Specify dtype option on import or set low_memory=False.\n",
      "  title_basics = pd.read_csv(\n"
     ]
    }
   ],
   "source": [
    "title_basics = pd.read_csv(\n",
    "    \"../data/imbws_complete/title.basics.tsv\",\n",
    "    sep=\"\\t\",\n",
    "    encoding=\"utf-8\",\n",
    "    on_bad_lines='skip'\n",
    ")\n",
    "\n",
    "title_crew = pd.read_csv(\n",
    "    \"../data/imbws_complete/title.crew.tsv\", \n",
    "    sep=\"\\t\", \n",
    "    encoding=\"utf-8\", \n",
    "    on_bad_lines='skip'\n",
    ")"
   ]
  },
  {
   "cell_type": "markdown",
   "id": "d3501ea0",
   "metadata": {},
   "source": [
    "### MovieLens ###"
   ]
  },
  {
   "cell_type": "code",
   "execution_count": 218,
   "id": "954f2fc9",
   "metadata": {},
   "outputs": [],
   "source": [
    "ratings_columns = ['UserID', 'MovieID', 'Rating', 'Timestamp']\n",
    "\n",
    "ratings = pd.read_csv('../data/movielens_complete/ml-1m/ratings.dat',\n",
    "    sep='::',\n",
    "    names=ratings_columns, \n",
    "    engine='python'\n",
    ")\n",
    "\n",
    "movies_columns = ['MovieID', 'Title', 'Genres']\n",
    "\n",
    "movies = pd.read_csv('../data/movielens_complete/ml-1m/movies.dat', \n",
    "    sep='::', \n",
    "    names=movies_columns,\n",
    "    engine='python', \n",
    "    encoding='ISO-8859-1'\n",
    ")"
   ]
  },
  {
   "cell_type": "markdown",
   "id": "eb61aeef",
   "metadata": {},
   "source": [
    "## Feature Engineering and Merging ##"
   ]
  },
  {
   "cell_type": "code",
   "execution_count": 219,
   "id": "0c70d4f9",
   "metadata": {},
   "outputs": [
    {
     "data": {
      "text/html": [
       "<div>\n",
       "<style scoped>\n",
       "    .dataframe tbody tr th:only-of-type {\n",
       "        vertical-align: middle;\n",
       "    }\n",
       "\n",
       "    .dataframe tbody tr th {\n",
       "        vertical-align: top;\n",
       "    }\n",
       "\n",
       "    .dataframe thead th {\n",
       "        text-align: right;\n",
       "    }\n",
       "</style>\n",
       "<table border=\"1\" class=\"dataframe\">\n",
       "  <thead>\n",
       "    <tr style=\"text-align: right;\">\n",
       "      <th></th>\n",
       "      <th>tconst</th>\n",
       "      <th>primaryTitle</th>\n",
       "      <th>startYear</th>\n",
       "      <th>genres</th>\n",
       "    </tr>\n",
       "  </thead>\n",
       "  <tbody>\n",
       "    <tr>\n",
       "      <th>0</th>\n",
       "      <td>tt0000001</td>\n",
       "      <td>Carmencita</td>\n",
       "      <td>1894</td>\n",
       "      <td>Documentary,Short</td>\n",
       "    </tr>\n",
       "    <tr>\n",
       "      <th>1</th>\n",
       "      <td>tt0000002</td>\n",
       "      <td>Le clown et ses chiens</td>\n",
       "      <td>1892</td>\n",
       "      <td>Animation,Short</td>\n",
       "    </tr>\n",
       "    <tr>\n",
       "      <th>2</th>\n",
       "      <td>tt0000003</td>\n",
       "      <td>Pauvre Pierrot</td>\n",
       "      <td>1892</td>\n",
       "      <td>Animation,Comedy,Romance</td>\n",
       "    </tr>\n",
       "    <tr>\n",
       "      <th>3</th>\n",
       "      <td>tt0000004</td>\n",
       "      <td>Un bon bock</td>\n",
       "      <td>1892</td>\n",
       "      <td>Animation,Short</td>\n",
       "    </tr>\n",
       "    <tr>\n",
       "      <th>4</th>\n",
       "      <td>tt0000005</td>\n",
       "      <td>Blacksmith Scene</td>\n",
       "      <td>1893</td>\n",
       "      <td>Comedy,Short</td>\n",
       "    </tr>\n",
       "  </tbody>\n",
       "</table>\n",
       "</div>"
      ],
      "text/plain": [
       "      tconst            primaryTitle startYear                    genres\n",
       "0  tt0000001              Carmencita      1894         Documentary,Short\n",
       "1  tt0000002  Le clown et ses chiens      1892           Animation,Short\n",
       "2  tt0000003          Pauvre Pierrot      1892  Animation,Comedy,Romance\n",
       "3  tt0000004             Un bon bock      1892           Animation,Short\n",
       "4  tt0000005        Blacksmith Scene      1893              Comedy,Short"
      ]
     },
     "execution_count": 219,
     "metadata": {},
     "output_type": "execute_result"
    }
   ],
   "source": [
    "title_basics = title_basics[['tconst', 'primaryTitle', 'startYear', 'genres']]\n",
    "title_basics.head()"
   ]
  },
  {
   "cell_type": "code",
   "execution_count": 220,
   "id": "a2152664",
   "metadata": {},
   "outputs": [
    {
     "data": {
      "text/html": [
       "<div>\n",
       "<style scoped>\n",
       "    .dataframe tbody tr th:only-of-type {\n",
       "        vertical-align: middle;\n",
       "    }\n",
       "\n",
       "    .dataframe tbody tr th {\n",
       "        vertical-align: top;\n",
       "    }\n",
       "\n",
       "    .dataframe thead th {\n",
       "        text-align: right;\n",
       "    }\n",
       "</style>\n",
       "<table border=\"1\" class=\"dataframe\">\n",
       "  <thead>\n",
       "    <tr style=\"text-align: right;\">\n",
       "      <th></th>\n",
       "      <th>tconst</th>\n",
       "      <th>directors</th>\n",
       "    </tr>\n",
       "  </thead>\n",
       "  <tbody>\n",
       "    <tr>\n",
       "      <th>0</th>\n",
       "      <td>tt0000001</td>\n",
       "      <td>nm0005690</td>\n",
       "    </tr>\n",
       "    <tr>\n",
       "      <th>1</th>\n",
       "      <td>tt0000002</td>\n",
       "      <td>nm0721526</td>\n",
       "    </tr>\n",
       "    <tr>\n",
       "      <th>2</th>\n",
       "      <td>tt0000003</td>\n",
       "      <td>nm0721526</td>\n",
       "    </tr>\n",
       "    <tr>\n",
       "      <th>3</th>\n",
       "      <td>tt0000004</td>\n",
       "      <td>nm0721526</td>\n",
       "    </tr>\n",
       "    <tr>\n",
       "      <th>4</th>\n",
       "      <td>tt0000005</td>\n",
       "      <td>nm0005690</td>\n",
       "    </tr>\n",
       "  </tbody>\n",
       "</table>\n",
       "</div>"
      ],
      "text/plain": [
       "      tconst  directors\n",
       "0  tt0000001  nm0005690\n",
       "1  tt0000002  nm0721526\n",
       "2  tt0000003  nm0721526\n",
       "3  tt0000004  nm0721526\n",
       "4  tt0000005  nm0005690"
      ]
     },
     "execution_count": 220,
     "metadata": {},
     "output_type": "execute_result"
    }
   ],
   "source": [
    "title_crew = title_crew[['tconst', 'directors']]\n",
    "title_crew.head()"
   ]
  },
  {
   "cell_type": "code",
   "execution_count": 221,
   "id": "b0593e2e",
   "metadata": {},
   "outputs": [
    {
     "data": {
      "text/html": [
       "<div>\n",
       "<style scoped>\n",
       "    .dataframe tbody tr th:only-of-type {\n",
       "        vertical-align: middle;\n",
       "    }\n",
       "\n",
       "    .dataframe tbody tr th {\n",
       "        vertical-align: top;\n",
       "    }\n",
       "\n",
       "    .dataframe thead th {\n",
       "        text-align: right;\n",
       "    }\n",
       "</style>\n",
       "<table border=\"1\" class=\"dataframe\">\n",
       "  <thead>\n",
       "    <tr style=\"text-align: right;\">\n",
       "      <th></th>\n",
       "      <th>MovieID</th>\n",
       "      <th>Title</th>\n",
       "      <th>Genres</th>\n",
       "      <th>Year</th>\n",
       "    </tr>\n",
       "  </thead>\n",
       "  <tbody>\n",
       "    <tr>\n",
       "      <th>0</th>\n",
       "      <td>1</td>\n",
       "      <td>Toy Story</td>\n",
       "      <td>Animation|Children's|Comedy</td>\n",
       "      <td>1995</td>\n",
       "    </tr>\n",
       "    <tr>\n",
       "      <th>1</th>\n",
       "      <td>2</td>\n",
       "      <td>Jumanji</td>\n",
       "      <td>Adventure|Children's|Fantasy</td>\n",
       "      <td>1995</td>\n",
       "    </tr>\n",
       "    <tr>\n",
       "      <th>2</th>\n",
       "      <td>3</td>\n",
       "      <td>Grumpier Old Men</td>\n",
       "      <td>Comedy|Romance</td>\n",
       "      <td>1995</td>\n",
       "    </tr>\n",
       "    <tr>\n",
       "      <th>3</th>\n",
       "      <td>4</td>\n",
       "      <td>Waiting to Exhale</td>\n",
       "      <td>Comedy|Drama</td>\n",
       "      <td>1995</td>\n",
       "    </tr>\n",
       "    <tr>\n",
       "      <th>4</th>\n",
       "      <td>5</td>\n",
       "      <td>Father of the Bride Part II</td>\n",
       "      <td>Comedy</td>\n",
       "      <td>1995</td>\n",
       "    </tr>\n",
       "  </tbody>\n",
       "</table>\n",
       "</div>"
      ],
      "text/plain": [
       "   MovieID                        Title                        Genres  Year\n",
       "0        1                    Toy Story   Animation|Children's|Comedy  1995\n",
       "1        2                      Jumanji  Adventure|Children's|Fantasy  1995\n",
       "2        3             Grumpier Old Men                Comedy|Romance  1995\n",
       "3        4            Waiting to Exhale                  Comedy|Drama  1995\n",
       "4        5  Father of the Bride Part II                        Comedy  1995"
      ]
     },
     "execution_count": 221,
     "metadata": {},
     "output_type": "execute_result"
    }
   ],
   "source": [
    "# Split Title ... (year) to Title and Year Columns in order to merge Title\n",
    "movies[['Title', 'Year']] = movies['Title'].str.extract(r'^(.*) \\((\\d{4})\\)$')\n",
    "movies.head()"
   ]
  },
  {
   "cell_type": "code",
   "execution_count": 222,
   "id": "dc0860b0",
   "metadata": {},
   "outputs": [
    {
     "data": {
      "text/html": [
       "<div>\n",
       "<style scoped>\n",
       "    .dataframe tbody tr th:only-of-type {\n",
       "        vertical-align: middle;\n",
       "    }\n",
       "\n",
       "    .dataframe tbody tr th {\n",
       "        vertical-align: top;\n",
       "    }\n",
       "\n",
       "    .dataframe thead th {\n",
       "        text-align: right;\n",
       "    }\n",
       "</style>\n",
       "<table border=\"1\" class=\"dataframe\">\n",
       "  <thead>\n",
       "    <tr style=\"text-align: right;\">\n",
       "      <th></th>\n",
       "      <th>tconst</th>\n",
       "      <th>Title</th>\n",
       "      <th>Year</th>\n",
       "      <th>genres</th>\n",
       "      <th>Directors</th>\n",
       "    </tr>\n",
       "  </thead>\n",
       "  <tbody>\n",
       "    <tr>\n",
       "      <th>0</th>\n",
       "      <td>tt0000001</td>\n",
       "      <td>Carmencita</td>\n",
       "      <td>1894</td>\n",
       "      <td>Documentary,Short</td>\n",
       "      <td>nm0005690</td>\n",
       "    </tr>\n",
       "    <tr>\n",
       "      <th>1</th>\n",
       "      <td>tt0000002</td>\n",
       "      <td>Le clown et ses chiens</td>\n",
       "      <td>1892</td>\n",
       "      <td>Animation,Short</td>\n",
       "      <td>nm0721526</td>\n",
       "    </tr>\n",
       "    <tr>\n",
       "      <th>2</th>\n",
       "      <td>tt0000003</td>\n",
       "      <td>Pauvre Pierrot</td>\n",
       "      <td>1892</td>\n",
       "      <td>Animation,Comedy,Romance</td>\n",
       "      <td>nm0721526</td>\n",
       "    </tr>\n",
       "    <tr>\n",
       "      <th>3</th>\n",
       "      <td>tt0000004</td>\n",
       "      <td>Un bon bock</td>\n",
       "      <td>1892</td>\n",
       "      <td>Animation,Short</td>\n",
       "      <td>nm0721526</td>\n",
       "    </tr>\n",
       "    <tr>\n",
       "      <th>4</th>\n",
       "      <td>tt0000005</td>\n",
       "      <td>Blacksmith Scene</td>\n",
       "      <td>1893</td>\n",
       "      <td>Comedy,Short</td>\n",
       "      <td>nm0005690</td>\n",
       "    </tr>\n",
       "  </tbody>\n",
       "</table>\n",
       "</div>"
      ],
      "text/plain": [
       "      tconst                   Title  Year                    genres  \\\n",
       "0  tt0000001              Carmencita  1894         Documentary,Short   \n",
       "1  tt0000002  Le clown et ses chiens  1892           Animation,Short   \n",
       "2  tt0000003          Pauvre Pierrot  1892  Animation,Comedy,Romance   \n",
       "3  tt0000004             Un bon bock  1892           Animation,Short   \n",
       "4  tt0000005        Blacksmith Scene  1893              Comedy,Short   \n",
       "\n",
       "   Directors  \n",
       "0  nm0005690  \n",
       "1  nm0721526  \n",
       "2  nm0721526  \n",
       "3  nm0721526  \n",
       "4  nm0005690  "
      ]
     },
     "execution_count": 222,
     "metadata": {},
     "output_type": "execute_result"
    }
   ],
   "source": [
    "title_data = pd.merge(title_basics, title_crew, on='tconst', how='left')\n",
    "title_data.rename(columns={'primaryTitle': 'Title', 'startYear': 'Year', 'directors': 'Directors'}, inplace=True)\n",
    "title_data.head()"
   ]
  },
  {
   "cell_type": "code",
   "execution_count": 223,
   "id": "42171bc3",
   "metadata": {},
   "outputs": [
    {
     "data": {
      "text/html": [
       "<div>\n",
       "<style scoped>\n",
       "    .dataframe tbody tr th:only-of-type {\n",
       "        vertical-align: middle;\n",
       "    }\n",
       "\n",
       "    .dataframe tbody tr th {\n",
       "        vertical-align: top;\n",
       "    }\n",
       "\n",
       "    .dataframe thead th {\n",
       "        text-align: right;\n",
       "    }\n",
       "</style>\n",
       "<table border=\"1\" class=\"dataframe\">\n",
       "  <thead>\n",
       "    <tr style=\"text-align: right;\">\n",
       "      <th></th>\n",
       "      <th>MovieID</th>\n",
       "      <th>Title</th>\n",
       "      <th>Year</th>\n",
       "      <th>Genres</th>\n",
       "      <th>Directors</th>\n",
       "      <th>genres</th>\n",
       "    </tr>\n",
       "  </thead>\n",
       "  <tbody>\n",
       "    <tr>\n",
       "      <th>0</th>\n",
       "      <td>1</td>\n",
       "      <td>Toy Story</td>\n",
       "      <td>1995</td>\n",
       "      <td>Animation|Children's|Comedy</td>\n",
       "      <td>nm0005124</td>\n",
       "      <td>Adventure,Animation,Comedy</td>\n",
       "    </tr>\n",
       "    <tr>\n",
       "      <th>1</th>\n",
       "      <td>2</td>\n",
       "      <td>Jumanji</td>\n",
       "      <td>1995</td>\n",
       "      <td>Adventure|Children's|Fantasy</td>\n",
       "      <td>nm0002653</td>\n",
       "      <td>Adventure,Comedy,Family</td>\n",
       "    </tr>\n",
       "    <tr>\n",
       "      <th>2</th>\n",
       "      <td>3</td>\n",
       "      <td>Grumpier Old Men</td>\n",
       "      <td>1995</td>\n",
       "      <td>Comedy|Romance</td>\n",
       "      <td>nm0222043</td>\n",
       "      <td>Comedy,Romance</td>\n",
       "    </tr>\n",
       "    <tr>\n",
       "      <th>3</th>\n",
       "      <td>4</td>\n",
       "      <td>Waiting to Exhale</td>\n",
       "      <td>1995</td>\n",
       "      <td>Comedy|Drama</td>\n",
       "      <td>nm0001845</td>\n",
       "      <td>Comedy,Drama,Romance</td>\n",
       "    </tr>\n",
       "    <tr>\n",
       "      <th>4</th>\n",
       "      <td>5</td>\n",
       "      <td>Father of the Bride Part II</td>\n",
       "      <td>1995</td>\n",
       "      <td>Comedy</td>\n",
       "      <td>nm0796124</td>\n",
       "      <td>Comedy,Family,Romance</td>\n",
       "    </tr>\n",
       "  </tbody>\n",
       "</table>\n",
       "</div>"
      ],
      "text/plain": [
       "   MovieID                        Title  Year                        Genres  \\\n",
       "0        1                    Toy Story  1995   Animation|Children's|Comedy   \n",
       "1        2                      Jumanji  1995  Adventure|Children's|Fantasy   \n",
       "2        3             Grumpier Old Men  1995                Comedy|Romance   \n",
       "3        4            Waiting to Exhale  1995                  Comedy|Drama   \n",
       "4        5  Father of the Bride Part II  1995                        Comedy   \n",
       "\n",
       "   Directors                      genres  \n",
       "0  nm0005124  Adventure,Animation,Comedy  \n",
       "1  nm0002653     Adventure,Comedy,Family  \n",
       "2  nm0222043              Comedy,Romance  \n",
       "3  nm0001845        Comedy,Drama,Romance  \n",
       "4  nm0796124       Comedy,Family,Romance  "
      ]
     },
     "execution_count": 223,
     "metadata": {},
     "output_type": "execute_result"
    }
   ],
   "source": [
    "merged_data = pd.merge(movies, title_data, on=['Title', 'Year'], how='inner')\n",
    "merged_data = merged_data[['MovieID', 'Title', 'Year', 'Genres', 'Directors', 'genres']]\n",
    "merged_data.head()"
   ]
  },
  {
   "cell_type": "markdown",
   "id": "b61913a2",
   "metadata": {},
   "source": [
    "### Genres concatenation ###"
   ]
  },
  {
   "cell_type": "code",
   "execution_count": 224,
   "id": "59a93738",
   "metadata": {},
   "outputs": [],
   "source": [
    "def add_imbwGenres_to_Genres(row):\n",
    "    imbw_genres = str(row['genres']).split(',') if pd.notna(row['genres']) else []\n",
    "    genres = str(row['Genres']).split('|') if pd.notna(row['Genres']) else []\n",
    "    \n",
    "    # Add genres from IMDb Genres that are not already in MovieLens Genres\n",
    "    for genre in imbw_genres:\n",
    "        if genre.strip() not in genres:\n",
    "            genres.append(genre.strip())\n",
    "    \n",
    "    # Combine genres by '|'\n",
    "    return '|'.join(genres)"
   ]
  },
  {
   "cell_type": "code",
   "execution_count": 225,
   "id": "790650b9",
   "metadata": {},
   "outputs": [
    {
     "data": {
      "text/html": [
       "<div>\n",
       "<style scoped>\n",
       "    .dataframe tbody tr th:only-of-type {\n",
       "        vertical-align: middle;\n",
       "    }\n",
       "\n",
       "    .dataframe tbody tr th {\n",
       "        vertical-align: top;\n",
       "    }\n",
       "\n",
       "    .dataframe thead th {\n",
       "        text-align: right;\n",
       "    }\n",
       "</style>\n",
       "<table border=\"1\" class=\"dataframe\">\n",
       "  <thead>\n",
       "    <tr style=\"text-align: right;\">\n",
       "      <th></th>\n",
       "      <th>MovieID</th>\n",
       "      <th>Title</th>\n",
       "      <th>Year</th>\n",
       "      <th>Genres</th>\n",
       "      <th>Directors</th>\n",
       "    </tr>\n",
       "  </thead>\n",
       "  <tbody>\n",
       "    <tr>\n",
       "      <th>0</th>\n",
       "      <td>1</td>\n",
       "      <td>Toy Story</td>\n",
       "      <td>1995</td>\n",
       "      <td>Animation|Children's|Comedy|Adventure</td>\n",
       "      <td>nm0005124</td>\n",
       "    </tr>\n",
       "    <tr>\n",
       "      <th>1</th>\n",
       "      <td>2</td>\n",
       "      <td>Jumanji</td>\n",
       "      <td>1995</td>\n",
       "      <td>Adventure|Children's|Fantasy|Comedy|Family</td>\n",
       "      <td>nm0002653</td>\n",
       "    </tr>\n",
       "    <tr>\n",
       "      <th>2</th>\n",
       "      <td>3</td>\n",
       "      <td>Grumpier Old Men</td>\n",
       "      <td>1995</td>\n",
       "      <td>Comedy|Romance</td>\n",
       "      <td>nm0222043</td>\n",
       "    </tr>\n",
       "    <tr>\n",
       "      <th>3</th>\n",
       "      <td>4</td>\n",
       "      <td>Waiting to Exhale</td>\n",
       "      <td>1995</td>\n",
       "      <td>Comedy|Drama|Romance</td>\n",
       "      <td>nm0001845</td>\n",
       "    </tr>\n",
       "    <tr>\n",
       "      <th>4</th>\n",
       "      <td>5</td>\n",
       "      <td>Father of the Bride Part II</td>\n",
       "      <td>1995</td>\n",
       "      <td>Comedy|Family|Romance</td>\n",
       "      <td>nm0796124</td>\n",
       "    </tr>\n",
       "  </tbody>\n",
       "</table>\n",
       "</div>"
      ],
      "text/plain": [
       "   MovieID                        Title  Year  \\\n",
       "0        1                    Toy Story  1995   \n",
       "1        2                      Jumanji  1995   \n",
       "2        3             Grumpier Old Men  1995   \n",
       "3        4            Waiting to Exhale  1995   \n",
       "4        5  Father of the Bride Part II  1995   \n",
       "\n",
       "                                       Genres  Directors  \n",
       "0       Animation|Children's|Comedy|Adventure  nm0005124  \n",
       "1  Adventure|Children's|Fantasy|Comedy|Family  nm0002653  \n",
       "2                              Comedy|Romance  nm0222043  \n",
       "3                        Comedy|Drama|Romance  nm0001845  \n",
       "4                       Comedy|Family|Romance  nm0796124  "
      ]
     },
     "execution_count": 225,
     "metadata": {},
     "output_type": "execute_result"
    }
   ],
   "source": [
    "\n",
    "merged_data['Genres'] = merged_data.apply(add_imbwGenres_to_Genres, axis=1)\n",
    "merged_data = merged_data.drop(['genres'], axis=1)\n",
    "merged_data.head()"
   ]
  },
  {
   "cell_type": "markdown",
   "id": "2c592c60",
   "metadata": {},
   "source": [
    "# **Model Development** #"
   ]
  },
  {
   "cell_type": "markdown",
   "id": "3df39dbc",
   "metadata": {},
   "source": [
    "## SVD model ##"
   ]
  },
  {
   "cell_type": "code",
   "execution_count": 226,
   "id": "2b5527c6",
   "metadata": {},
   "outputs": [],
   "source": [
    "model = SVD(n_factors=59, biased=True, verbose=True)"
   ]
  },
  {
   "cell_type": "markdown",
   "id": "b6b278f1",
   "metadata": {},
   "source": [
    "# **Recommendation Algorithm** #"
   ]
  },
  {
   "cell_type": "markdown",
   "id": "ece46382",
   "metadata": {},
   "source": [
    "## Build Users Preferences"
   ]
  },
  {
   "cell_type": "code",
   "execution_count": 227,
   "id": "e7a7cbb0",
   "metadata": {},
   "outputs": [],
   "source": [
    "# Preference on Genres and Directors preferences\n",
    "# But We can add other features like actors, Years etc ...\n",
    "def build_user_genre_and_director_preferences(ratings, movies):\n",
    "    # Merging for Genres and Directors ratings\n",
    "    ratings = pd.merge(ratings, movies[['MovieID', 'Genres', 'Directors']], on='MovieID', how='left')\n",
    "    \n",
    "    # Dictionaries to store preferences of genre and director\n",
    "    user_genre_counts = defaultdict(Counter)\n",
    "    user_director_counts = defaultdict(Counter)\n",
    "    total_ratings = defaultdict(int)\n",
    "    \n",
    "    # Iterate through each rating record\n",
    "    for _, row in ratings.iterrows():\n",
    "        user_id = row['UserID']\n",
    "\n",
    "        if isinstance(row['Genres'], str):\n",
    "            genres = row['Genres'].split('|')  \n",
    "        else:\n",
    "            genres = []\n",
    "\n",
    "        if isinstance(row['Directors'], str):\n",
    "            directors = row['Directors'].split(',')\n",
    "        else:\n",
    "            directors = []\n",
    "\n",
    "        rating = row['Rating']\n",
    "        \n",
    "        # Add genre and directors preferences if rating is >= 4\n",
    "        if rating >= 4.0:\n",
    "            user_genre_counts[user_id].update(genres)\n",
    "\n",
    "        if rating >= 4.0:\n",
    "            user_director_counts[user_id].update(directors)\n",
    "        \n",
    "        # Count total ratings per user\n",
    "        total_ratings[user_id] += 1\n",
    "\n",
    "    user_genre_preferences = {user_id: [genre for genre, _ in genres.items() if total_ratings[user_id] >= 20 and genre != '\\\\N'] for user_id, genres in user_genre_counts.items()}\n",
    "    user_director_preferences = {user_id: [director for director, _ in directors.items() if total_ratings[user_id] >= 20 and director != '\\\\N'] for user_id, directors in user_director_counts.items()}\n",
    "    \n",
    "    top_genres_preferences = {}\n",
    "    top_directors_preferences = {}\n",
    "    \n",
    "    # Calculate the top 5 genres and 5 directors for each user\n",
    "    for user_id, genres in user_genre_counts.items():\n",
    "        if total_ratings[user_id] >= 20:\n",
    "            top_genres = genres.most_common(5)\n",
    "            top_genres_preferences[user_id] = [genre for genre, _ in top_genres]\n",
    "\n",
    "    for user_id, directors in user_director_counts.items():\n",
    "        if total_ratings[user_id] >= 20:\n",
    "            top_directors = directors.most_common(5)\n",
    "            top_directors_preferences[user_id] = [director for director, _ in top_directors if director != '\\\\N']\n",
    "\n",
    "    return user_genre_preferences, user_director_preferences, top_genres_preferences, top_directors_preferences\n",
    "\n",
    "# Get couple preferences\n",
    "def combine_user_preferences(user_preferences, user1_id, user2_id):\n",
    "    user1_preferences = user_preferences[user1_id]\n",
    "    user2_preferences = user_preferences[user2_id]\n",
    "    combined_preferences = list(set(user1_preferences).intersection(user2_preferences))\n",
    "    return combined_preferences"
   ]
  },
  {
   "cell_type": "markdown",
   "id": "c799b550",
   "metadata": {},
   "source": [
    "## Couple Recommendations"
   ]
  },
  {
   "cell_type": "code",
   "execution_count": 228,
   "id": "9cd772e4",
   "metadata": {},
   "outputs": [],
   "source": [
    "def get_couple_recommendations(model, user_genre_preferences, user_director_preferences, ratings, movies, user1_id, user2_id, n=3):\n",
    "    # Combine user preferences\n",
    "    combined_genres = combine_user_preferences(user_genre_preferences, user1_id, user2_id)\n",
    "    combined_directors = combine_user_preferences(user_director_preferences, user1_id, user2_id)\n",
    "    \n",
    "    # Get movies already rated by users\n",
    "    rated_movies_user1 = ratings[ratings['UserID'] == user1_id]['MovieID'].tolist()\n",
    "    rated_movies_user2 = ratings[ratings['UserID'] == user2_id]['MovieID'].tolist()\n",
    "    rated_movies = rated_movies_user1 + rated_movies_user2\n",
    "    \n",
    "    # Get predictions for all movies\n",
    "    all_movies = list(movies['MovieID'])\n",
    "    predictions = [model.predict(user1_id, movie_id, r_ui=0, clip=False) for movie_id in all_movies if movie_id not in rated_movies]\n",
    "    \n",
    "    # Sort predictions by estimated rating in descending order\n",
    "    predictions.sort(key=lambda x: x.est, reverse=True)\n",
    "    \n",
    "    # Select top recommendations that match combined genre and director preferences\n",
    "    top_recommendations = []\n",
    "    added_movie_ids = set()  # To track added movies and avoid duplicates\n",
    "    \n",
    "    for prediction in predictions:\n",
    "        movie_id = prediction.iid\n",
    "        movie_info = movies[movies['MovieID'] == movie_id].iloc[0]\n",
    "        movie_genres = movie_info['Genres'].split('|') if isinstance(movie_info['Genres'], str) else []\n",
    "        movie_directors = movie_info['Directors'].split(',') if isinstance(movie_info['Directors'], str) else []\n",
    "        \n",
    "        # Check if the movie matches the combined genre and director preferences\n",
    "        if (any(genre in combined_genres for genre in movie_genres) and\n",
    "            any(director in combined_directors for director in movie_directors) and\n",
    "            movie_id not in added_movie_ids):\n",
    "            \n",
    "            top_recommendations.append((movie_id, prediction.est))\n",
    "            added_movie_ids.add(movie_id)  # Track the added movie ID\n",
    "        \n",
    "        # Exit once we have enough recommendations\n",
    "        if len(top_recommendations) >= n:\n",
    "            break\n",
    "\n",
    "    return top_recommendations"
   ]
  },
  {
   "cell_type": "markdown",
   "id": "85618878",
   "metadata": {},
   "source": [
    "# **Evaluation** #"
   ]
  },
  {
   "cell_type": "markdown",
   "id": "8b1113f5",
   "metadata": {},
   "source": [
    "### Training ###"
   ]
  },
  {
   "cell_type": "code",
   "execution_count": 229,
   "id": "824997ab",
   "metadata": {},
   "outputs": [
    {
     "name": "stdout",
     "output_type": "stream",
     "text": [
      "Processing epoch 0\n",
      "Processing epoch 1\n",
      "Processing epoch 2\n",
      "Processing epoch 3\n",
      "Processing epoch 4\n",
      "Processing epoch 5\n",
      "Processing epoch 6\n",
      "Processing epoch 7\n",
      "Processing epoch 8\n",
      "Processing epoch 9\n",
      "Processing epoch 10\n",
      "Processing epoch 11\n",
      "Processing epoch 12\n",
      "Processing epoch 13\n",
      "Processing epoch 14\n",
      "Processing epoch 15\n",
      "Processing epoch 16\n",
      "Processing epoch 17\n",
      "Processing epoch 18\n",
      "Processing epoch 19\n"
     ]
    },
    {
     "data": {
      "text/plain": [
       "<surprise.prediction_algorithms.matrix_factorization.SVD at 0x5cdfc8fe0>"
      ]
     },
     "execution_count": 229,
     "metadata": {},
     "output_type": "execute_result"
    }
   ],
   "source": [
    "# Use Surprise to train SVD model\n",
    "reader = Reader(rating_scale=(1, 5))\n",
    "data = Dataset.load_from_df(ratings[['UserID', 'MovieID', 'Rating']], reader)\n",
    "trainset, testset = train_test_split(data, test_size=0.2, random_state=42)\n",
    "\n",
    "model.fit(trainset)"
   ]
  },
  {
   "cell_type": "markdown",
   "id": "d1e6f73c",
   "metadata": {},
   "source": [
    "### Build preferences ###"
   ]
  },
  {
   "cell_type": "code",
   "execution_count": 243,
   "id": "28956be7",
   "metadata": {},
   "outputs": [
    {
     "name": "stdout",
     "output_type": "stream",
     "text": [
      "Genres preferences for user 1 :  [\"Children's\", 'Animation', 'Drama', 'Comedy', 'Adventure']\n",
      "Directors preferences for user 1 :  ['nm0414144', 'nm0000229', 'nm0359457', 'nm0789313']\n"
     ]
    }
   ],
   "source": [
    "user_genre_preferences, user_director_preferences, top_genres_preferences, top_directors_preferences = build_user_genre_and_director_preferences(ratings, merged_data)\n",
    "print('Genres preferences for user 1 : ', list(top_genres_preferences.values())[0])\n",
    "print('Directors preferences for user 1 : ', list(top_directors_preferences.values())[0])"
   ]
  },
  {
   "cell_type": "markdown",
   "id": "9076d264",
   "metadata": {},
   "source": [
    "### Choice of couple ###"
   ]
  },
  {
   "cell_type": "code",
   "execution_count": 238,
   "id": "68717014",
   "metadata": {},
   "outputs": [
    {
     "name": "stdout",
     "output_type": "stream",
     "text": [
      "5 genres recommanded for User 3503: ['Drama', 'Comedy', 'Adventure', 'Action', 'Thriller']\n",
      "5 genres recommanded for User 3669: ['Drama', 'Action', 'Comedy', 'Adventure', 'Crime']\n"
     ]
    }
   ],
   "source": [
    "import random\n",
    "\n",
    "unique_user_ids = ratings['UserID'].unique()\n",
    "user1_id = random.choice(unique_user_ids)\n",
    "user2_id = random.choice(unique_user_ids)\n",
    "\n",
    "def get_top_5_genres(user_genre_preferences, user_id):\n",
    "    if user_id in user_genre_preferences:\n",
    "        genres = user_genre_preferences[user_id]\n",
    "        return genres\n",
    "    else:\n",
    "        return []\n",
    "    \n",
    "three_genres_user1 = get_top_5_genres(top_genres_preferences, user1_id)\n",
    "three_genres_user2 = get_top_5_genres(top_genres_preferences, user2_id)\n",
    "\n",
    "print(f\"5 genres recommanded for User {user1_id}: {three_genres_user1}\")\n",
    "print(f\"5 genres recommanded for User {user2_id}: {three_genres_user2}\")"
   ]
  },
  {
   "cell_type": "markdown",
   "id": "a910938f",
   "metadata": {},
   "source": [
    "### Movie Recommendations ###"
   ]
  },
  {
   "cell_type": "code",
   "execution_count": 239,
   "id": "805c288c",
   "metadata": {},
   "outputs": [
    {
     "name": "stdout",
     "output_type": "stream",
     "text": [
      "Movie Title: Paths of Glory, Predicted Rating: 4.778726014241611, MovieID: 1178, Genres: Drama|War\n",
      "Movie Title: Diner, Predicted Rating: 4.757275702386452, MovieID: 3543, Genres: Comedy|Drama\n",
      "Movie Title: Touch of Evil, Predicted Rating: 4.74180720629701, MovieID: 1248, Genres: Crime|Film-Noir|Thriller\n"
     ]
    }
   ],
   "source": [
    "predictions = model.test(testset)\n",
    "recommendations = get_couple_recommendations(model, user_genre_preferences, user_director_preferences,ratings, merged_data, user1_id, user2_id)\n",
    "for movie_id, predicted_rating in recommendations:\n",
    "    movie_title = movies[movies['MovieID'] == movie_id]['Title'].iloc[0]\n",
    "    movie_genres = movies[movies['MovieID'] == movie_id]['Genres'].iloc[0]\n",
    "    print(f\"Movie Title: {movie_title}, Predicted Rating: {predicted_rating}, MovieID: {movie_id}, Genres: {movie_genres}\")"
   ]
  },
  {
   "cell_type": "markdown",
   "id": "d23a981d",
   "metadata": {},
   "source": [
    "It is normal to get \"Predicted Rating\" a little higher than 5, because it's rating for 5"
   ]
  },
  {
   "cell_type": "code",
   "execution_count": 233,
   "id": "fd83c113",
   "metadata": {},
   "outputs": [
    {
     "name": "stdout",
     "output_type": "stream",
     "text": [
      "RMSE: 0.8720\n"
     ]
    },
    {
     "data": {
      "text/plain": [
       "0.8720373567664572"
      ]
     },
     "execution_count": 233,
     "metadata": {},
     "output_type": "execute_result"
    }
   ],
   "source": [
    "accuracy.rmse(predictions)"
   ]
  }
 ],
 "metadata": {
  "kernelspec": {
   "display_name": "Python 3 (ipykernel)",
   "language": "python",
   "name": "python3"
  },
  "language_info": {
   "codemirror_mode": {
    "name": "ipython",
    "version": 3
   },
   "file_extension": ".py",
   "mimetype": "text/x-python",
   "name": "python",
   "nbconvert_exporter": "python",
   "pygments_lexer": "ipython3",
   "version": "3.12.2"
  }
 },
 "nbformat": 4,
 "nbformat_minor": 5
}
